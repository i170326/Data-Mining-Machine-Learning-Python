{
 "cells": [
  {
   "cell_type": "code",
   "execution_count": 31,
   "metadata": {},
   "outputs": [],
   "source": [
    "import matplotlib.pyplot as plt\n",
    "from matplotlib import style\n",
    "style.use('ggplot')\n",
    "import numpy as np\n",
    "from sklearn.datasets.samples_generator import make_blobs"
   ]
  },
  {
   "cell_type": "code",
   "execution_count": 39,
   "metadata": {},
   "outputs": [],
   "source": [
    "class Mean_Shift:\n",
    "    \n",
    "    # Constructor \n",
    "    def __init__(self, radius=3): # Default Radius is 3 (You can tune it accordingly)\n",
    "        self.radius = radius\n",
    "        self.centroids = {}\n",
    "        \n",
    "    # Create Clusters   \n",
    "    def fit(self, data):\n",
    "        centroids = {}\n",
    "        \n",
    "        for i in range(0,len(data)):\n",
    "            centroids[i]=data[i]\n",
    "            \n",
    "        optimised=False\n",
    "        while(not optimised):\n",
    "            updatedCentroids = []\n",
    "            #checking each centroid\n",
    "            for i in centroids:\n",
    "                insideRadius=[]\n",
    "                centroid = centroids[i]\n",
    "                for j in data:\n",
    "                    ##normalise data and compare with radius\n",
    "                     if np.linalg.norm(j-centroid) < self.radius:\n",
    "                        insideRadius.append(j)\n",
    "                updatedCentroid = np.average(insideRadius,axis=0)\n",
    "                updatedCentroids.append(tuple(updatedCentroid))\n",
    "\n",
    "            #find unique elements\n",
    "            setCentroids=set(updatedCentroids)\n",
    "            uniqueCentroids=sorted(list(setCentroids))\n",
    "            \n",
    "            #copy centroids\n",
    "            previousCentroids=dict(centroids)\n",
    "            \n",
    "            #update Centroid Array\n",
    "            centroids = {}\n",
    "            for i in range(0,len(uniqueCentroids)):\n",
    "                centroids[i] = np.array(uniqueCentroids[i])\n",
    "            optimised=True\n",
    "            \n",
    "            #check convergence\n",
    "            for i in centroids:\n",
    "                if(not np.array_equal(centroids[i], previousCentroids[i])):\n",
    "                    optimised=False\n",
    "                    break\n",
    "        self.centroids = centroids\n",
    "\n",
    "        # Your Code Here\n",
    "\n",
    "     "
   ]
  },
  {
   "cell_type": "code",
   "execution_count": 40,
   "metadata": {},
   "outputs": [],
   "source": [
    "# Creating Data Set of clusters\n",
    "X, _ = make_blobs(n_samples = 200, cluster_std =1.5)"
   ]
  },
  {
   "cell_type": "code",
   "execution_count": 41,
   "metadata": {},
   "outputs": [
    {
     "data": {
      "image/png": "[encoded data removed]",
      "text/plain": [
       "<Figure size 432x288 with 1 Axes>"
      ]
     },
     "metadata": {},
     "output_type": "display_data"
    }
   ],
   "source": [
    "# Creating Object of Class\n",
    "clf = Mean_Shift()\n",
    "clf.fit(X)\n",
    "\n",
    "# Getting Optimized Centroids\n",
    "\n",
    "centroids = clf.centroids\n",
    "\n",
    "# Simple Scatter plot of 2D Data X\n",
    "plt.scatter(X[:,0], X[:,1],s=150)\n",
    "\n",
    "# Plot Cluster centroids as '*'\n",
    "for c in centroids:\n",
    "    plt.scatter(centroids[c][0], centroids[c][1], color='k', marker='*', s=150)\n",
    "\n",
    "plt.show()"
   ]
  },
  {
   "cell_type": "code",
   "execution_count": null,
   "metadata": {},
   "outputs": [],
   "source": []
  },
  {
   "cell_type": "code",
   "execution_count": null,
   "metadata": {},
   "outputs": [],
   "source": []
  }
 ],
 "metadata": {
  "kernelspec": {
   "display_name": "Python 3",
   "language": "python",
   "name": "python3"
  },
  "language_info": {
   "codemirror_mode": {
    "name": "ipython",
    "version": 3
   },
   "file_extension": ".py",
   "mimetype": "text/x-python",
   "name": "python",
   "nbconvert_exporter": "python",
   "pygments_lexer": "ipython3",
   "version": "3.7.4"
  }
 },
 "nbformat": 4,
 "nbformat_minor": 1
}
